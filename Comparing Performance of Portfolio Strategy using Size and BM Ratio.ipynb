{
 "cells": [
  {
   "cell_type": "code",
   "execution_count": 1,
   "metadata": {},
   "outputs": [],
   "source": [
    "import pandas as pd\n",
    "from pandas import DataFrame, Series\n",
    "import numpy as np\n",
    "import copy\n",
    "import warnings\n",
    "from matplotlib import pyplot as plt\n",
    "import statsmodels.api as sm\n",
    "warnings.filterwarnings('ignore')"
   ]
  },
  {
   "cell_type": "markdown",
   "metadata": {},
   "source": [
    "### Data are downloaded from [Wharton Research Data Services]('https://wrds-web.wharton.upenn.edu/wrds/')"
   ]
  },
  {
   "cell_type": "code",
   "execution_count": 2,
   "metadata": {},
   "outputs": [],
   "source": [
    "b2m=pd.read_csv('D:/UT MSBA Spring 2019/Quant Investment/hw4/B2M.csv')\n",
    "crsp=pd.read_csv('D:/UT MSBA Spring 2019/Quant Investment/hw4/CRSP_data_HW4.csv')\n",
    "ff=pd.read_csv('D:/UT MSBA Spring 2019/Quant Investment/hw4/F-F_Research_Data_Factors.csv')"
   ]
  },
  {
   "cell_type": "code",
   "execution_count": 3,
   "metadata": {},
   "outputs": [],
   "source": [
    "# Copied data to prevent changing original data\n",
    "d1=copy.deepcopy(b2m)\n",
    "d2=copy.deepcopy(crsp)\n",
    "d3=copy.deepcopy(ff)"
   ]
  },
  {
   "cell_type": "code",
   "execution_count": 4,
   "metadata": {},
   "outputs": [
    {
     "data": {
      "text/html": [
       "<div>\n",
       "<style scoped>\n",
       "    .dataframe tbody tr th:only-of-type {\n",
       "        vertical-align: middle;\n",
       "    }\n",
       "\n",
       "    .dataframe tbody tr th {\n",
       "        vertical-align: top;\n",
       "    }\n",
       "\n",
       "    .dataframe thead th {\n",
       "        text-align: right;\n",
       "    }\n",
       "</style>\n",
       "<table border=\"1\" class=\"dataframe\">\n",
       "  <thead>\n",
       "    <tr style=\"text-align: right;\">\n",
       "      <th></th>\n",
       "      <th>permno</th>\n",
       "      <th>public_date</th>\n",
       "      <th>bm</th>\n",
       "    </tr>\n",
       "  </thead>\n",
       "  <tbody>\n",
       "    <tr>\n",
       "      <th>0</th>\n",
       "      <td>10001</td>\n",
       "      <td>31-Jan-03</td>\n",
       "      <td>0.889</td>\n",
       "    </tr>\n",
       "    <tr>\n",
       "      <th>1</th>\n",
       "      <td>10001</td>\n",
       "      <td>28-Feb-03</td>\n",
       "      <td>1.030</td>\n",
       "    </tr>\n",
       "    <tr>\n",
       "      <th>2</th>\n",
       "      <td>10001</td>\n",
       "      <td>31-Mar-03</td>\n",
       "      <td>1.030</td>\n",
       "    </tr>\n",
       "    <tr>\n",
       "      <th>3</th>\n",
       "      <td>10001</td>\n",
       "      <td>30-Apr-03</td>\n",
       "      <td>1.030</td>\n",
       "    </tr>\n",
       "    <tr>\n",
       "      <th>4</th>\n",
       "      <td>10001</td>\n",
       "      <td>31-May-03</td>\n",
       "      <td>1.071</td>\n",
       "    </tr>\n",
       "  </tbody>\n",
       "</table>\n",
       "</div>"
      ],
      "text/plain": [
       "   permno public_date     bm\n",
       "0   10001   31-Jan-03  0.889\n",
       "1   10001   28-Feb-03  1.030\n",
       "2   10001   31-Mar-03  1.030\n",
       "3   10001   30-Apr-03  1.030\n",
       "4   10001   31-May-03  1.071"
      ]
     },
     "execution_count": 4,
     "metadata": {},
     "output_type": "execute_result"
    }
   ],
   "source": [
    "d1.head()"
   ]
  },
  {
   "cell_type": "code",
   "execution_count": 5,
   "metadata": {},
   "outputs": [
    {
     "data": {
      "text/html": [
       "<div>\n",
       "<style scoped>\n",
       "    .dataframe tbody tr th:only-of-type {\n",
       "        vertical-align: middle;\n",
       "    }\n",
       "\n",
       "    .dataframe tbody tr th {\n",
       "        vertical-align: top;\n",
       "    }\n",
       "\n",
       "    .dataframe thead th {\n",
       "        text-align: right;\n",
       "    }\n",
       "</style>\n",
       "<table border=\"1\" class=\"dataframe\">\n",
       "  <thead>\n",
       "    <tr style=\"text-align: right;\">\n",
       "      <th></th>\n",
       "      <th>PERMNO</th>\n",
       "      <th>date</th>\n",
       "      <th>TICKER</th>\n",
       "      <th>PRC</th>\n",
       "      <th>RET</th>\n",
       "      <th>SHROUT</th>\n",
       "      <th>vwretd</th>\n",
       "      <th>sprtrn</th>\n",
       "    </tr>\n",
       "  </thead>\n",
       "  <tbody>\n",
       "    <tr>\n",
       "      <th>0</th>\n",
       "      <td>10001</td>\n",
       "      <td>31JAN2003</td>\n",
       "      <td>EWST</td>\n",
       "      <td>8.44000</td>\n",
       "      <td>0.148143</td>\n",
       "      <td>2591.0</td>\n",
       "      <td>-0.023400</td>\n",
       "      <td>-0.027415</td>\n",
       "    </tr>\n",
       "    <tr>\n",
       "      <th>1</th>\n",
       "      <td>10001</td>\n",
       "      <td>28FEB2003</td>\n",
       "      <td>EWST</td>\n",
       "      <td>8.74000</td>\n",
       "      <td>0.035545</td>\n",
       "      <td>2591.0</td>\n",
       "      <td>-0.015391</td>\n",
       "      <td>-0.017004</td>\n",
       "    </tr>\n",
       "    <tr>\n",
       "      <th>2</th>\n",
       "      <td>10001</td>\n",
       "      <td>31MAR2003</td>\n",
       "      <td>EWST</td>\n",
       "      <td>7.65000</td>\n",
       "      <td>-0.109268</td>\n",
       "      <td>2593.0</td>\n",
       "      <td>0.010318</td>\n",
       "      <td>0.008358</td>\n",
       "    </tr>\n",
       "    <tr>\n",
       "      <th>3</th>\n",
       "      <td>10001</td>\n",
       "      <td>30APR2003</td>\n",
       "      <td>EWST</td>\n",
       "      <td>5.17000</td>\n",
       "      <td>-0.324183</td>\n",
       "      <td>2593.0</td>\n",
       "      <td>0.082750</td>\n",
       "      <td>0.081044</td>\n",
       "    </tr>\n",
       "    <tr>\n",
       "      <th>4</th>\n",
       "      <td>10001</td>\n",
       "      <td>30MAY2003</td>\n",
       "      <td>EWST</td>\n",
       "      <td>8.44000</td>\n",
       "      <td>0.632495</td>\n",
       "      <td>2594.0</td>\n",
       "      <td>0.063436</td>\n",
       "      <td>0.050899</td>\n",
       "    </tr>\n",
       "    <tr>\n",
       "      <th>1353570</th>\n",
       "      <td>93436</td>\n",
       "      <td>31AUG2018</td>\n",
       "      <td>TSLA</td>\n",
       "      <td>301.66000</td>\n",
       "      <td>0.011806</td>\n",
       "      <td>170593.0</td>\n",
       "      <td>0.030221</td>\n",
       "      <td>0.030263</td>\n",
       "    </tr>\n",
       "    <tr>\n",
       "      <th>1353571</th>\n",
       "      <td>93436</td>\n",
       "      <td>28SEP2018</td>\n",
       "      <td>TSLA</td>\n",
       "      <td>264.76999</td>\n",
       "      <td>-0.122290</td>\n",
       "      <td>171578.0</td>\n",
       "      <td>0.000443</td>\n",
       "      <td>0.004294</td>\n",
       "    </tr>\n",
       "    <tr>\n",
       "      <th>1353572</th>\n",
       "      <td>93436</td>\n",
       "      <td>31OCT2018</td>\n",
       "      <td>TSLA</td>\n",
       "      <td>337.32001</td>\n",
       "      <td>0.274011</td>\n",
       "      <td>171733.0</td>\n",
       "      <td>-0.074031</td>\n",
       "      <td>-0.069403</td>\n",
       "    </tr>\n",
       "    <tr>\n",
       "      <th>1353573</th>\n",
       "      <td>93436</td>\n",
       "      <td>30NOV2018</td>\n",
       "      <td>TSLA</td>\n",
       "      <td>350.48001</td>\n",
       "      <td>0.039013</td>\n",
       "      <td>171733.0</td>\n",
       "      <td>0.018530</td>\n",
       "      <td>0.017859</td>\n",
       "    </tr>\n",
       "    <tr>\n",
       "      <th>1353574</th>\n",
       "      <td>93436</td>\n",
       "      <td>31DEC2018</td>\n",
       "      <td>TSLA</td>\n",
       "      <td>332.79999</td>\n",
       "      <td>-0.050445</td>\n",
       "      <td>171733.0</td>\n",
       "      <td>-0.089810</td>\n",
       "      <td>-0.091777</td>\n",
       "    </tr>\n",
       "  </tbody>\n",
       "</table>\n",
       "</div>"
      ],
      "text/plain": [
       "         PERMNO       date TICKER        PRC        RET    SHROUT    vwretd  \\\n",
       "0         10001  31JAN2003   EWST    8.44000   0.148143    2591.0 -0.023400   \n",
       "1         10001  28FEB2003   EWST    8.74000   0.035545    2591.0 -0.015391   \n",
       "2         10001  31MAR2003   EWST    7.65000  -0.109268    2593.0  0.010318   \n",
       "3         10001  30APR2003   EWST    5.17000  -0.324183    2593.0  0.082750   \n",
       "4         10001  30MAY2003   EWST    8.44000   0.632495    2594.0  0.063436   \n",
       "1353570   93436  31AUG2018   TSLA  301.66000   0.011806  170593.0  0.030221   \n",
       "1353571   93436  28SEP2018   TSLA  264.76999  -0.122290  171578.0  0.000443   \n",
       "1353572   93436  31OCT2018   TSLA  337.32001   0.274011  171733.0 -0.074031   \n",
       "1353573   93436  30NOV2018   TSLA  350.48001   0.039013  171733.0  0.018530   \n",
       "1353574   93436  31DEC2018   TSLA  332.79999  -0.050445  171733.0 -0.089810   \n",
       "\n",
       "           sprtrn  \n",
       "0       -0.027415  \n",
       "1       -0.017004  \n",
       "2        0.008358  \n",
       "3        0.081044  \n",
       "4        0.050899  \n",
       "1353570  0.030263  \n",
       "1353571  0.004294  \n",
       "1353572 -0.069403  \n",
       "1353573  0.017859  \n",
       "1353574 -0.091777  "
      ]
     },
     "execution_count": 5,
     "metadata": {},
     "output_type": "execute_result"
    }
   ],
   "source": [
    "pd.concat([d2.head(),d2.tail()])"
   ]
  },
  {
   "cell_type": "code",
   "execution_count": 6,
   "metadata": {
    "scrolled": false
   },
   "outputs": [
    {
     "data": {
      "text/html": [
       "<div>\n",
       "<style scoped>\n",
       "    .dataframe tbody tr th:only-of-type {\n",
       "        vertical-align: middle;\n",
       "    }\n",
       "\n",
       "    .dataframe tbody tr th {\n",
       "        vertical-align: top;\n",
       "    }\n",
       "\n",
       "    .dataframe thead th {\n",
       "        text-align: right;\n",
       "    }\n",
       "</style>\n",
       "<table border=\"1\" class=\"dataframe\">\n",
       "  <thead>\n",
       "    <tr style=\"text-align: right;\">\n",
       "      <th></th>\n",
       "      <th>Month</th>\n",
       "      <th>Mkt-RF</th>\n",
       "      <th>SMB</th>\n",
       "      <th>HML</th>\n",
       "      <th>RF</th>\n",
       "    </tr>\n",
       "  </thead>\n",
       "  <tbody>\n",
       "    <tr>\n",
       "      <th>0</th>\n",
       "      <td>200301</td>\n",
       "      <td>-2.57</td>\n",
       "      <td>1.39</td>\n",
       "      <td>-0.93</td>\n",
       "      <td>0.10</td>\n",
       "    </tr>\n",
       "    <tr>\n",
       "      <th>1</th>\n",
       "      <td>200302</td>\n",
       "      <td>-1.88</td>\n",
       "      <td>-0.34</td>\n",
       "      <td>-1.46</td>\n",
       "      <td>0.09</td>\n",
       "    </tr>\n",
       "    <tr>\n",
       "      <th>2</th>\n",
       "      <td>200303</td>\n",
       "      <td>1.09</td>\n",
       "      <td>0.89</td>\n",
       "      <td>-2.09</td>\n",
       "      <td>0.10</td>\n",
       "    </tr>\n",
       "    <tr>\n",
       "      <th>3</th>\n",
       "      <td>200304</td>\n",
       "      <td>8.22</td>\n",
       "      <td>0.57</td>\n",
       "      <td>1.03</td>\n",
       "      <td>0.10</td>\n",
       "    </tr>\n",
       "    <tr>\n",
       "      <th>4</th>\n",
       "      <td>200305</td>\n",
       "      <td>6.05</td>\n",
       "      <td>4.70</td>\n",
       "      <td>-0.30</td>\n",
       "      <td>0.09</td>\n",
       "    </tr>\n",
       "  </tbody>\n",
       "</table>\n",
       "</div>"
      ],
      "text/plain": [
       "    Month  Mkt-RF   SMB   HML    RF\n",
       "0  200301   -2.57  1.39 -0.93  0.10\n",
       "1  200302   -1.88 -0.34 -1.46  0.09\n",
       "2  200303    1.09  0.89 -2.09  0.10\n",
       "3  200304    8.22  0.57  1.03  0.10\n",
       "4  200305    6.05  4.70 -0.30  0.09"
      ]
     },
     "execution_count": 6,
     "metadata": {},
     "output_type": "execute_result"
    }
   ],
   "source": [
    "d3.head()"
   ]
  },
  {
   "cell_type": "markdown",
   "metadata": {},
   "source": [
    "## Preprocessing Data before Analysis"
   ]
  },
  {
   "cell_type": "code",
   "execution_count": 7,
   "metadata": {},
   "outputs": [],
   "source": [
    "# Change into timestamp\n",
    "d1.public_date=pd.to_datetime(d1.public_date, format='%d-%b-%y')\n",
    "d2.date=pd.to_datetime(d2.date, format='%d%b%Y')\n",
    "d3.Month=pd.to_datetime(d3.Month, format='%Y%m')"
   ]
  },
  {
   "cell_type": "code",
   "execution_count": 8,
   "metadata": {},
   "outputs": [],
   "source": [
    "# Exclude values with missing return for several months\n",
    "no_stocks=d2[(d2.RET=='B')|(d2.RET=='C')].PERMNO.drop_duplicates()\n",
    "d4=d2[d2.PERMNO.isin(no_stocks)==False]\n",
    "# Change prices with negative value to positive. Checked that price should be positive based on RET column\n",
    "d4.PRC=d4.PRC.abs()\n",
    "d4.RET=pd.to_numeric(d4.RET)"
   ]
  },
  {
   "cell_type": "markdown",
   "metadata": {},
   "source": [
    "## 1. Smallest 10% market capitalization (str1)"
   ]
  },
  {
   "cell_type": "code",
   "execution_count": 9,
   "metadata": {},
   "outputs": [],
   "source": [
    "# Function that takes smallest 10% market cap\n",
    "def get_tickers1(df):\n",
    "    number=int(round(len(df.PERMNO.drop_duplicates())*0.1))\n",
    "    df['mc']=df.PRC_t*df.SHROUT_t\n",
    "    smallest_mc=df.mc.sort_values(ascending=True)[:number]\n",
    "    tickers=df.PERMNO.loc[smallest_mc.index]\n",
    "    return tickers"
   ]
  },
  {
   "cell_type": "code",
   "execution_count": 10,
   "metadata": {},
   "outputs": [],
   "source": [
    "def get_value_weighted_return(df,tickers):\n",
    "    temp2=df[df.PERMNO.isin(tickers)]\n",
    "    temp2['mc']=temp2.PRC_t*temp2.SHROUT_t\n",
    "    weights=temp2.mc/sum(temp2.mc)\n",
    "    weighted_return=(weights*temp2.RET_n).sum()\n",
    "    return weighted_return"
   ]
  },
  {
   "cell_type": "code",
   "execution_count": 11,
   "metadata": {},
   "outputs": [],
   "source": [
    "def get_monthly_return1(date_index):\n",
    "    this_month=d4[d4.date==dates.loc[date_index]]\n",
    "    next_month=d4[d4.date==dates.loc[date_index+1]]\n",
    "    temp=pd.merge(next_month, this_month, how='inner', left_on='PERMNO', right_on='PERMNO', suffixes=('_n','_t'))\n",
    "    tickers=get_tickers1(temp)\n",
    "    return get_value_weighted_return(temp,tickers)"
   ]
  },
  {
   "cell_type": "code",
   "execution_count": 12,
   "metadata": {},
   "outputs": [],
   "source": [
    "dates=Series(d4.date.unique())\n",
    "str1_mon=Series(dates.index[:-1]).map(get_monthly_return1)\n",
    "str1_mon_cum=np.cumprod(str1_mon.add(1))"
   ]
  },
  {
   "cell_type": "markdown",
   "metadata": {},
   "source": [
    "## 2. Top 35% B/M ratio (str2)"
   ]
  },
  {
   "cell_type": "code",
   "execution_count": 13,
   "metadata": {},
   "outputs": [],
   "source": [
    "def get_tickers2(df):\n",
    "    number=int(round(len(df.permno.drop_duplicates())*0.35))\n",
    "    bm=df.bm.sort_values(ascending=False)[:number]\n",
    "    tickers=df.permno.loc[bm.index]\n",
    "    return tickers"
   ]
  },
  {
   "cell_type": "code",
   "execution_count": 14,
   "metadata": {},
   "outputs": [],
   "source": [
    "def get_monthly_return2(date_index):\n",
    "    this_month=d4[d4.date==dates.loc[date_index]]\n",
    "    next_month=d4[d4.date==dates.loc[date_index+1]]\n",
    "    bm=d1[d1.public_date==dates.loc[date_index]]\n",
    "    temp=pd.merge(next_month, this_month, how='inner', left_on='PERMNO', right_on='PERMNO', suffixes=('_n','_t'))\n",
    "    tickers=get_tickers2(bm)\n",
    "    return get_value_weighted_return(temp,tickers)"
   ]
  },
  {
   "cell_type": "code",
   "execution_count": 15,
   "metadata": {},
   "outputs": [],
   "source": [
    "str2_mon=Series(dates.index[:-1]).map(get_monthly_return2)\n",
    "str2_mon_cum=np.cumprod(str2_mon.add(1))"
   ]
  },
  {
   "cell_type": "markdown",
   "metadata": {},
   "source": [
    "## 3. (1, str3) Half-largest and top 35% B/M and (2, str4) Half-smallest and top 35% B/M"
   ]
  },
  {
   "cell_type": "code",
   "execution_count": 16,
   "metadata": {},
   "outputs": [],
   "source": [
    "def get_tickers3(df1, df2):\n",
    "    number=int(round(len(df1.PERMNO.drop_duplicates())*0.5))\n",
    "    df1['mc']=df1.PRC_t*df1.SHROUT_t\n",
    "    largest=df1.mc.sort_values(ascending=False)[:number]\n",
    "    smallest=df1.mc.sort_values(ascending=False)[number:]\n",
    "    large_tickers=df1.PERMNO.loc[largest.index]\n",
    "    tickers1=get_tickers2(df2[df2.permno.isin(large_tickers)])\n",
    "    small_tickers=df1.PERMNO.loc[smallest.index]\n",
    "    tickers2=get_tickers2(df2[df2.permno.isin(small_tickers)])\n",
    "    return [large_tickers, tickers1, small_tickers, tickers2]"
   ]
  },
  {
   "cell_type": "code",
   "execution_count": 17,
   "metadata": {},
   "outputs": [],
   "source": [
    "def get_monthly_return3(date_index, large=True):\n",
    "    this_month=d4[d4.date==dates.loc[date_index]]\n",
    "    next_month=d4[d4.date==dates.loc[date_index+1]]\n",
    "    bm=d1[d1.public_date==dates.loc[date_index]]\n",
    "    temp=pd.merge(next_month, this_month, how='inner', left_on='PERMNO', right_on='PERMNO', suffixes=('_n','_t'))\n",
    "    values=get_tickers3(temp,bm)\n",
    "    if large==True:\n",
    "        large=temp[temp.PERMNO.isin(values[0])]\n",
    "        monthly_return=get_value_weighted_return(large,values[1])\n",
    "    else:\n",
    "        small=temp[temp.PERMNO.isin(values[2])]\n",
    "        monthly_return=get_value_weighted_return(small,values[3])\n",
    "    return monthly_return"
   ]
  },
  {
   "cell_type": "code",
   "execution_count": 18,
   "metadata": {},
   "outputs": [],
   "source": [
    "str3_mon=Series(dates.index[:-1]).map(lambda x : get_monthly_return3(x,large=True))\n",
    "str3_mon_cum=np.cumprod(str3_mon.add(1))\n",
    "str4_mon=Series(dates.index[:-1]).map(lambda x : get_monthly_return3(x,large=False))\n",
    "str4_mon_cum=np.cumprod(str4_mon.add(1))"
   ]
  },
  {
   "cell_type": "markdown",
   "metadata": {},
   "source": [
    "## 4. Value Weighted Benchmark"
   ]
  },
  {
   "cell_type": "code",
   "execution_count": 19,
   "metadata": {},
   "outputs": [],
   "source": [
    "def get_monthly_return(date_index):\n",
    "    this_month=d4[d4.date==dates.loc[date_index]]\n",
    "    next_month=d4[d4.date==dates.loc[date_index+1]]\n",
    "    temp=pd.merge(next_month, this_month, how='inner', left_on='PERMNO', right_on='PERMNO', suffixes=('_n','_t'))\n",
    "    tickers=list(d4.PERMNO.drop_duplicates())\n",
    "    return get_value_weighted_return(temp,tickers)"
   ]
  },
  {
   "cell_type": "code",
   "execution_count": 20,
   "metadata": {},
   "outputs": [],
   "source": [
    "#Value weighted all stocks\n",
    "vw_benchmark=Series(dates.index[:-1]).map(get_monthly_return)\n",
    "vw_benchmark_cum=np.cumprod(vw_benchmark.add(1))"
   ]
  },
  {
   "cell_type": "code",
   "execution_count": 21,
   "metadata": {},
   "outputs": [],
   "source": [
    "#Using 'Value Weighted Return Including Dividend' pulled from crsp \n",
    "vw_retd=d4[['date','vwretd']].drop_duplicates().vwretd[1:]\n",
    "vw_retd_cum=np.cumprod(vw_retd.add(1))"
   ]
  },
  {
   "cell_type": "code",
   "execution_count": 22,
   "metadata": {
    "scrolled": true
   },
   "outputs": [
    {
     "data": {
      "text/html": [
       "<div>\n",
       "<style scoped>\n",
       "    .dataframe tbody tr th:only-of-type {\n",
       "        vertical-align: middle;\n",
       "    }\n",
       "\n",
       "    .dataframe tbody tr th {\n",
       "        vertical-align: top;\n",
       "    }\n",
       "\n",
       "    .dataframe thead th {\n",
       "        text-align: right;\n",
       "    }\n",
       "</style>\n",
       "<table border=\"1\" class=\"dataframe\">\n",
       "  <thead>\n",
       "    <tr style=\"text-align: right;\">\n",
       "      <th></th>\n",
       "      <th>str1</th>\n",
       "      <th>str2</th>\n",
       "      <th>str3</th>\n",
       "      <th>str4</th>\n",
       "      <th>vw_ben</th>\n",
       "      <th>vw_retd</th>\n",
       "    </tr>\n",
       "  </thead>\n",
       "  <tbody>\n",
       "    <tr>\n",
       "      <th>2003-02-28</th>\n",
       "      <td>0.969716</td>\n",
       "      <td>1.000000</td>\n",
       "      <td>0.972986</td>\n",
       "      <td>1.000000</td>\n",
       "      <td>1.0</td>\n",
       "      <td>0.984609</td>\n",
       "    </tr>\n",
       "    <tr>\n",
       "      <th>2003-03-31</th>\n",
       "      <td>0.978148</td>\n",
       "      <td>1.011685</td>\n",
       "      <td>0.979657</td>\n",
       "      <td>1.004975</td>\n",
       "      <td>1.0</td>\n",
       "      <td>0.994768</td>\n",
       "    </tr>\n",
       "    <tr>\n",
       "      <th>2003-04-30</th>\n",
       "      <td>1.081925</td>\n",
       "      <td>1.120750</td>\n",
       "      <td>1.080199</td>\n",
       "      <td>1.115918</td>\n",
       "      <td>1.0</td>\n",
       "      <td>1.077085</td>\n",
       "    </tr>\n",
       "    <tr>\n",
       "      <th>2003-05-30</th>\n",
       "      <td>1.325299</td>\n",
       "      <td>1.229919</td>\n",
       "      <td>1.184232</td>\n",
       "      <td>1.323205</td>\n",
       "      <td>1.0</td>\n",
       "      <td>1.145411</td>\n",
       "    </tr>\n",
       "    <tr>\n",
       "      <th>2003-06-30</th>\n",
       "      <td>1.449678</td>\n",
       "      <td>1.229919</td>\n",
       "      <td>1.184232</td>\n",
       "      <td>1.323205</td>\n",
       "      <td>1.0</td>\n",
       "      <td>1.164104</td>\n",
       "    </tr>\n",
       "  </tbody>\n",
       "</table>\n",
       "</div>"
      ],
      "text/plain": [
       "                str1      str2      str3      str4  vw_ben   vw_retd\n",
       "2003-02-28  0.969716  1.000000  0.972986  1.000000     1.0  0.984609\n",
       "2003-03-31  0.978148  1.011685  0.979657  1.004975     1.0  0.994768\n",
       "2003-04-30  1.081925  1.120750  1.080199  1.115918     1.0  1.077085\n",
       "2003-05-30  1.325299  1.229919  1.184232  1.323205     1.0  1.145411\n",
       "2003-06-30  1.449678  1.229919  1.184232  1.323205     1.0  1.164104"
      ]
     },
     "execution_count": 22,
     "metadata": {},
     "output_type": "execute_result"
    }
   ],
   "source": [
    "returns = DataFrame({'str1':str1_mon.values, 'str2':str2_mon.values, 'str3':str3_mon.values, 'str4':str4_mon.values, 'vw_ben':vw_benchmark.values, 'vw_retd':vw_retd.values}, index=dates[1:])\n",
    "cum_returns = DataFrame({'str1':str1_mon_cum.values, 'str2':str2_mon_cum.values, 'str3':str3_mon_cum.values, 'str4':str4_mon_cum.values, 'vw_ben':vw_benchmark_cum.values, 'vw_retd':vw_retd_cum.values}, index=dates[1:])\n",
    "cum_returns.head()"
   ]
  },
  {
   "cell_type": "markdown",
   "metadata": {},
   "source": [
    "## Cumulative Return Plot of All Strategies"
   ]
  },
  {
   "cell_type": "code",
   "execution_count": 23,
   "metadata": {},
   "outputs": [
    {
     "data": {
      "image/png": "[encoded data removed]",
      "text/plain": [
       "<Figure size 1440x360 with 1 Axes>"
      ]
     },
     "metadata": {
      "needs_background": "light"
     },
     "output_type": "display_data"
    }
   ],
   "source": [
    "plt.figure(figsize=(20,5))\n",
    "plt.plot(cum_returns)\n",
    "plt.legend(list(cum_returns.columns),loc='upper left')\n",
    "plt.show()"
   ]
  },
  {
   "cell_type": "markdown",
   "metadata": {},
   "source": [
    "## 5. Sharpe Ratio"
   ]
  },
  {
   "cell_type": "code",
   "execution_count": 24,
   "metadata": {},
   "outputs": [
    {
     "data": {
      "text/html": [
       "<div>\n",
       "<style scoped>\n",
       "    .dataframe tbody tr th:only-of-type {\n",
       "        vertical-align: middle;\n",
       "    }\n",
       "\n",
       "    .dataframe tbody tr th {\n",
       "        vertical-align: top;\n",
       "    }\n",
       "\n",
       "    .dataframe thead th {\n",
       "        text-align: right;\n",
       "    }\n",
       "</style>\n",
       "<table border=\"1\" class=\"dataframe\">\n",
       "  <thead>\n",
       "    <tr style=\"text-align: right;\">\n",
       "      <th></th>\n",
       "      <th>excess_ret_total</th>\n",
       "      <th>vol_total</th>\n",
       "      <th>Sharpe_total</th>\n",
       "    </tr>\n",
       "  </thead>\n",
       "  <tbody>\n",
       "    <tr>\n",
       "      <th>str1</th>\n",
       "      <td>0.202241</td>\n",
       "      <td>0.195257</td>\n",
       "      <td>1.035768</td>\n",
       "    </tr>\n",
       "    <tr>\n",
       "      <th>str2</th>\n",
       "      <td>0.078996</td>\n",
       "      <td>0.146404</td>\n",
       "      <td>0.539578</td>\n",
       "    </tr>\n",
       "    <tr>\n",
       "      <th>str3</th>\n",
       "      <td>0.072806</td>\n",
       "      <td>0.138804</td>\n",
       "      <td>0.524519</td>\n",
       "    </tr>\n",
       "    <tr>\n",
       "      <th>str4</th>\n",
       "      <td>0.145340</td>\n",
       "      <td>0.201622</td>\n",
       "      <td>0.720856</td>\n",
       "    </tr>\n",
       "    <tr>\n",
       "      <th>vw_ben</th>\n",
       "      <td>0.022306</td>\n",
       "      <td>0.097805</td>\n",
       "      <td>0.228064</td>\n",
       "    </tr>\n",
       "    <tr>\n",
       "      <th>vw_retd</th>\n",
       "      <td>0.095043</td>\n",
       "      <td>0.139272</td>\n",
       "      <td>0.682433</td>\n",
       "    </tr>\n",
       "  </tbody>\n",
       "</table>\n",
       "</div>"
      ],
      "text/plain": [
       "         excess_ret_total  vol_total  Sharpe_total\n",
       "str1             0.202241   0.195257      1.035768\n",
       "str2             0.078996   0.146404      0.539578\n",
       "str3             0.072806   0.138804      0.524519\n",
       "str4             0.145340   0.201622      0.720856\n",
       "vw_ben           0.022306   0.097805      0.228064\n",
       "vw_retd          0.095043   0.139272      0.682433"
      ]
     },
     "execution_count": 24,
     "metadata": {},
     "output_type": "execute_result"
    }
   ],
   "source": [
    "risk_free=Series(d3.RF[1:].values,index=dates[1:])/100\n",
    "summary = pd.DataFrame()\n",
    "summary['excess_ret_total']=returns.sub(risk_free,axis=0).add(1).resample('A').agg('prod').sub(1).mean()\n",
    "summary['vol_total']=returns.apply(np.std)*12**0.5\n",
    "summary['Sharpe_total']=summary.excess_ret_total/summary.vol_total\n",
    "summary"
   ]
  },
  {
   "cell_type": "markdown",
   "metadata": {},
   "source": [
    "### Sharpe Ratio before 2009"
   ]
  },
  {
   "cell_type": "code",
   "execution_count": 25,
   "metadata": {},
   "outputs": [
    {
     "data": {
      "text/html": [
       "<div>\n",
       "<style scoped>\n",
       "    .dataframe tbody tr th:only-of-type {\n",
       "        vertical-align: middle;\n",
       "    }\n",
       "\n",
       "    .dataframe tbody tr th {\n",
       "        vertical-align: top;\n",
       "    }\n",
       "\n",
       "    .dataframe thead th {\n",
       "        text-align: right;\n",
       "    }\n",
       "</style>\n",
       "<table border=\"1\" class=\"dataframe\">\n",
       "  <thead>\n",
       "    <tr style=\"text-align: right;\">\n",
       "      <th></th>\n",
       "      <th>excess_ret_before</th>\n",
       "      <th>vol_before</th>\n",
       "      <th>Sharpe_before</th>\n",
       "    </tr>\n",
       "  </thead>\n",
       "  <tbody>\n",
       "    <tr>\n",
       "      <th>str1</th>\n",
       "      <td>0.177796</td>\n",
       "      <td>0.221251</td>\n",
       "      <td>0.803595</td>\n",
       "    </tr>\n",
       "    <tr>\n",
       "      <th>str2</th>\n",
       "      <td>0.016702</td>\n",
       "      <td>0.142126</td>\n",
       "      <td>0.117517</td>\n",
       "    </tr>\n",
       "    <tr>\n",
       "      <th>str3</th>\n",
       "      <td>0.018853</td>\n",
       "      <td>0.129356</td>\n",
       "      <td>0.145745</td>\n",
       "    </tr>\n",
       "    <tr>\n",
       "      <th>str4</th>\n",
       "      <td>0.065882</td>\n",
       "      <td>0.185546</td>\n",
       "      <td>0.355068</td>\n",
       "    </tr>\n",
       "    <tr>\n",
       "      <th>vw_ben</th>\n",
       "      <td>-0.021114</td>\n",
       "      <td>0.099797</td>\n",
       "      <td>-0.211565</td>\n",
       "    </tr>\n",
       "    <tr>\n",
       "      <th>vw_retd</th>\n",
       "      <td>0.041992</td>\n",
       "      <td>0.139204</td>\n",
       "      <td>0.301659</td>\n",
       "    </tr>\n",
       "  </tbody>\n",
       "</table>\n",
       "</div>"
      ],
      "text/plain": [
       "         excess_ret_before  vol_before  Sharpe_before\n",
       "str1              0.177796    0.221251       0.803595\n",
       "str2              0.016702    0.142126       0.117517\n",
       "str3              0.018853    0.129356       0.145745\n",
       "str4              0.065882    0.185546       0.355068\n",
       "vw_ben           -0.021114    0.099797      -0.211565\n",
       "vw_retd           0.041992    0.139204       0.301659"
      ]
     },
     "execution_count": 25,
     "metadata": {},
     "output_type": "execute_result"
    }
   ],
   "source": [
    "summary_1 = pd.DataFrame()\n",
    "summary_1['excess_ret_before']=returns.sub(risk_free,axis=0).add(1).resample('A').agg('prod').sub(1)[:'2009-01-01'].mean()\n",
    "summary_1['vol_before']=returns[:'2009-01-01'].apply(np.std)*12**0.5\n",
    "summary_1['Sharpe_before']=summary_1.excess_ret_before/summary_1.vol_before\n",
    "summary_1"
   ]
  },
  {
   "cell_type": "markdown",
   "metadata": {},
   "source": [
    "### Sharpe Ratio after 2009"
   ]
  },
  {
   "cell_type": "code",
   "execution_count": 26,
   "metadata": {},
   "outputs": [
    {
     "data": {
      "text/html": [
       "<div>\n",
       "<style scoped>\n",
       "    .dataframe tbody tr th:only-of-type {\n",
       "        vertical-align: middle;\n",
       "    }\n",
       "\n",
       "    .dataframe tbody tr th {\n",
       "        vertical-align: top;\n",
       "    }\n",
       "\n",
       "    .dataframe thead th {\n",
       "        text-align: right;\n",
       "    }\n",
       "</style>\n",
       "<table border=\"1\" class=\"dataframe\">\n",
       "  <thead>\n",
       "    <tr style=\"text-align: right;\">\n",
       "      <th></th>\n",
       "      <th>excess_ret_after</th>\n",
       "      <th>vol_after</th>\n",
       "      <th>Sharpe_after</th>\n",
       "    </tr>\n",
       "  </thead>\n",
       "  <tbody>\n",
       "    <tr>\n",
       "      <th>str1</th>\n",
       "      <td>0.216908</td>\n",
       "      <td>0.177729</td>\n",
       "      <td>1.220443</td>\n",
       "    </tr>\n",
       "    <tr>\n",
       "      <th>str2</th>\n",
       "      <td>0.116373</td>\n",
       "      <td>0.148057</td>\n",
       "      <td>0.786003</td>\n",
       "    </tr>\n",
       "    <tr>\n",
       "      <th>str3</th>\n",
       "      <td>0.105177</td>\n",
       "      <td>0.143588</td>\n",
       "      <td>0.732495</td>\n",
       "    </tr>\n",
       "    <tr>\n",
       "      <th>str4</th>\n",
       "      <td>0.193015</td>\n",
       "      <td>0.209564</td>\n",
       "      <td>0.921034</td>\n",
       "    </tr>\n",
       "    <tr>\n",
       "      <th>vw_ben</th>\n",
       "      <td>0.048357</td>\n",
       "      <td>0.096204</td>\n",
       "      <td>0.502657</td>\n",
       "    </tr>\n",
       "    <tr>\n",
       "      <th>vw_retd</th>\n",
       "      <td>0.126874</td>\n",
       "      <td>0.138678</td>\n",
       "      <td>0.914881</td>\n",
       "    </tr>\n",
       "  </tbody>\n",
       "</table>\n",
       "</div>"
      ],
      "text/plain": [
       "         excess_ret_after  vol_after  Sharpe_after\n",
       "str1             0.216908   0.177729      1.220443\n",
       "str2             0.116373   0.148057      0.786003\n",
       "str3             0.105177   0.143588      0.732495\n",
       "str4             0.193015   0.209564      0.921034\n",
       "vw_ben           0.048357   0.096204      0.502657\n",
       "vw_retd          0.126874   0.138678      0.914881"
      ]
     },
     "execution_count": 26,
     "metadata": {},
     "output_type": "execute_result"
    }
   ],
   "source": [
    "summary_2 = pd.DataFrame()\n",
    "summary_2['excess_ret_after']=returns.sub(risk_free,axis=0).add(1).resample('A').agg('prod').sub(1)['2009-01-01':].mean()\n",
    "summary_2['vol_after']=returns['2009-01-01':].apply(np.std)*12**0.5\n",
    "summary_2['Sharpe_after']=summary_2.excess_ret_after/summary_2.vol_after\n",
    "summary_2"
   ]
  },
  {
   "cell_type": "markdown",
   "metadata": {},
   "source": [
    "## 6. Fama-French"
   ]
  },
  {
   "cell_type": "code",
   "execution_count": 27,
   "metadata": {},
   "outputs": [],
   "source": [
    "y=returns.sub(risk_free,axis=0)"
   ]
  },
  {
   "cell_type": "code",
   "execution_count": 28,
   "metadata": {},
   "outputs": [],
   "source": [
    "def FF_model(S, alpha_only = False):\n",
    "    X = DataFrame(d3[[\"Mkt-RF\",\"SMB\",\"HML\"]].iloc[1:].values*0.01, columns=[\"Mkt-RF\",\"SMB\",\"HML\"], index=returns.index)\n",
    "    Y = S\n",
    "    X2 = sm.add_constant(X)\n",
    "    est = sm.OLS(Y, X2)\n",
    "    est2 = est.fit()\n",
    "    if alpha_only:\n",
    "        return est2.params[0]\n",
    "    else  :\n",
    "        return est2.summary()"
   ]
  },
  {
   "cell_type": "markdown",
   "metadata": {},
   "source": [
    "### Alphas"
   ]
  },
  {
   "cell_type": "code",
   "execution_count": 29,
   "metadata": {},
   "outputs": [
    {
     "data": {
      "text/plain": [
       "str1       0.004425\n",
       "str2       0.000364\n",
       "str3       0.000029\n",
       "str4       0.003169\n",
       "vw_ben    -0.002132\n",
       "vw_retd   -0.000376\n",
       "dtype: float64"
      ]
     },
     "execution_count": 29,
     "metadata": {},
     "output_type": "execute_result"
    }
   ],
   "source": [
    "y.apply(lambda x : FF_model(x,alpha_only=True))"
   ]
  },
  {
   "cell_type": "markdown",
   "metadata": {},
   "source": [
    "### Summary of FF for strategy 1"
   ]
  },
  {
   "cell_type": "code",
   "execution_count": 30,
   "metadata": {},
   "outputs": [
    {
     "data": {
      "text/html": [
       "<table class=\"simpletable\">\n",
       "<caption>OLS Regression Results</caption>\n",
       "<tr>\n",
       "  <th>Dep. Variable:</th>          <td>str1</td>       <th>  R-squared:         </th> <td>   0.564</td>\n",
       "</tr>\n",
       "<tr>\n",
       "  <th>Model:</th>                   <td>OLS</td>       <th>  Adj. R-squared:    </th> <td>   0.557</td>\n",
       "</tr>\n",
       "<tr>\n",
       "  <th>Method:</th>             <td>Least Squares</td>  <th>  F-statistic:       </th> <td>   80.53</td>\n",
       "</tr>\n",
       "<tr>\n",
       "  <th>Date:</th>             <td>Sat, 04 May 2019</td> <th>  Prob (F-statistic):</th> <td>1.73e-33</td>\n",
       "</tr>\n",
       "<tr>\n",
       "  <th>Time:</th>                 <td>12:07:16</td>     <th>  Log-Likelihood:    </th> <td>  356.96</td>\n",
       "</tr>\n",
       "<tr>\n",
       "  <th>No. Observations:</th>      <td>   191</td>      <th>  AIC:               </th> <td>  -705.9</td>\n",
       "</tr>\n",
       "<tr>\n",
       "  <th>Df Residuals:</th>          <td>   187</td>      <th>  BIC:               </th> <td>  -692.9</td>\n",
       "</tr>\n",
       "<tr>\n",
       "  <th>Df Model:</th>              <td>     3</td>      <th>                     </th>     <td> </td>   \n",
       "</tr>\n",
       "<tr>\n",
       "  <th>Covariance Type:</th>      <td>nonrobust</td>    <th>                     </th>     <td> </td>   \n",
       "</tr>\n",
       "</table>\n",
       "<table class=\"simpletable\">\n",
       "<tr>\n",
       "     <td></td>       <th>coef</th>     <th>std err</th>      <th>t</th>      <th>P>|t|</th>  <th>[0.025</th>    <th>0.975]</th>  \n",
       "</tr>\n",
       "<tr>\n",
       "  <th>const</th>  <td>    0.0044</td> <td>    0.003</td> <td>    1.591</td> <td> 0.113</td> <td>   -0.001</td> <td>    0.010</td>\n",
       "</tr>\n",
       "<tr>\n",
       "  <th>Mkt-RF</th> <td>    0.8565</td> <td>    0.076</td> <td>   11.287</td> <td> 0.000</td> <td>    0.707</td> <td>    1.006</td>\n",
       "</tr>\n",
       "<tr>\n",
       "  <th>SMB</th>    <td>    0.5951</td> <td>    0.127</td> <td>    4.684</td> <td> 0.000</td> <td>    0.344</td> <td>    0.846</td>\n",
       "</tr>\n",
       "<tr>\n",
       "  <th>HML</th>    <td>    0.1584</td> <td>    0.116</td> <td>    1.370</td> <td> 0.172</td> <td>   -0.070</td> <td>    0.386</td>\n",
       "</tr>\n",
       "</table>\n",
       "<table class=\"simpletable\">\n",
       "<tr>\n",
       "  <th>Omnibus:</th>       <td>60.730</td> <th>  Durbin-Watson:     </th> <td>   1.611</td>\n",
       "</tr>\n",
       "<tr>\n",
       "  <th>Prob(Omnibus):</th> <td> 0.000</td> <th>  Jarque-Bera (JB):  </th> <td> 168.106</td>\n",
       "</tr>\n",
       "<tr>\n",
       "  <th>Skew:</th>          <td> 1.338</td> <th>  Prob(JB):          </th> <td>3.13e-37</td>\n",
       "</tr>\n",
       "<tr>\n",
       "  <th>Kurtosis:</th>      <td> 6.737</td> <th>  Cond. No.          </th> <td>    48.1</td>\n",
       "</tr>\n",
       "</table><br/><br/>Warnings:<br/>[1] Standard Errors assume that the covariance matrix of the errors is correctly specified."
      ],
      "text/plain": [
       "<class 'statsmodels.iolib.summary.Summary'>\n",
       "\"\"\"\n",
       "                            OLS Regression Results                            \n",
       "==============================================================================\n",
       "Dep. Variable:                   str1   R-squared:                       0.564\n",
       "Model:                            OLS   Adj. R-squared:                  0.557\n",
       "Method:                 Least Squares   F-statistic:                     80.53\n",
       "Date:                Sat, 04 May 2019   Prob (F-statistic):           1.73e-33\n",
       "Time:                        12:07:16   Log-Likelihood:                 356.96\n",
       "No. Observations:                 191   AIC:                            -705.9\n",
       "Df Residuals:                     187   BIC:                            -692.9\n",
       "Df Model:                           3                                         \n",
       "Covariance Type:            nonrobust                                         \n",
       "==============================================================================\n",
       "                 coef    std err          t      P>|t|      [0.025      0.975]\n",
       "------------------------------------------------------------------------------\n",
       "const          0.0044      0.003      1.591      0.113      -0.001       0.010\n",
       "Mkt-RF         0.8565      0.076     11.287      0.000       0.707       1.006\n",
       "SMB            0.5951      0.127      4.684      0.000       0.344       0.846\n",
       "HML            0.1584      0.116      1.370      0.172      -0.070       0.386\n",
       "==============================================================================\n",
       "Omnibus:                       60.730   Durbin-Watson:                   1.611\n",
       "Prob(Omnibus):                  0.000   Jarque-Bera (JB):              168.106\n",
       "Skew:                           1.338   Prob(JB):                     3.13e-37\n",
       "Kurtosis:                       6.737   Cond. No.                         48.1\n",
       "==============================================================================\n",
       "\n",
       "Warnings:\n",
       "[1] Standard Errors assume that the covariance matrix of the errors is correctly specified.\n",
       "\"\"\""
      ]
     },
     "execution_count": 30,
     "metadata": {},
     "output_type": "execute_result"
    }
   ],
   "source": [
    "FF_model(y.str1)"
   ]
  },
  {
   "cell_type": "markdown",
   "metadata": {},
   "source": [
    "### Summary of FF for startegy 2"
   ]
  },
  {
   "cell_type": "code",
   "execution_count": 31,
   "metadata": {},
   "outputs": [
    {
     "data": {
      "text/html": [
       "<table class=\"simpletable\">\n",
       "<caption>OLS Regression Results</caption>\n",
       "<tr>\n",
       "  <th>Dep. Variable:</th>          <td>str2</td>       <th>  R-squared:         </th> <td>   0.630</td>\n",
       "</tr>\n",
       "<tr>\n",
       "  <th>Model:</th>                   <td>OLS</td>       <th>  Adj. R-squared:    </th> <td>   0.624</td>\n",
       "</tr>\n",
       "<tr>\n",
       "  <th>Method:</th>             <td>Least Squares</td>  <th>  F-statistic:       </th> <td>   106.1</td>\n",
       "</tr>\n",
       "<tr>\n",
       "  <th>Date:</th>             <td>Sat, 04 May 2019</td> <th>  Prob (F-statistic):</th> <td>3.70e-40</td>\n",
       "</tr>\n",
       "<tr>\n",
       "  <th>Time:</th>                 <td>12:07:16</td>     <th>  Log-Likelihood:    </th> <td>  427.83</td>\n",
       "</tr>\n",
       "<tr>\n",
       "  <th>No. Observations:</th>      <td>   191</td>      <th>  AIC:               </th> <td>  -847.7</td>\n",
       "</tr>\n",
       "<tr>\n",
       "  <th>Df Residuals:</th>          <td>   187</td>      <th>  BIC:               </th> <td>  -834.6</td>\n",
       "</tr>\n",
       "<tr>\n",
       "  <th>Df Model:</th>              <td>     3</td>      <th>                     </th>     <td> </td>   \n",
       "</tr>\n",
       "<tr>\n",
       "  <th>Covariance Type:</th>      <td>nonrobust</td>    <th>                     </th>     <td> </td>   \n",
       "</tr>\n",
       "</table>\n",
       "<table class=\"simpletable\">\n",
       "<tr>\n",
       "     <td></td>       <th>coef</th>     <th>std err</th>      <th>t</th>      <th>P>|t|</th>  <th>[0.025</th>    <th>0.975]</th>  \n",
       "</tr>\n",
       "<tr>\n",
       "  <th>const</th>  <td>    0.0004</td> <td>    0.002</td> <td>    0.189</td> <td> 0.850</td> <td>   -0.003</td> <td>    0.004</td>\n",
       "</tr>\n",
       "<tr>\n",
       "  <th>Mkt-RF</th> <td>    0.7074</td> <td>    0.052</td> <td>   13.510</td> <td> 0.000</td> <td>    0.604</td> <td>    0.811</td>\n",
       "</tr>\n",
       "<tr>\n",
       "  <th>SMB</th>    <td>    0.0654</td> <td>    0.088</td> <td>    0.746</td> <td> 0.457</td> <td>   -0.108</td> <td>    0.238</td>\n",
       "</tr>\n",
       "<tr>\n",
       "  <th>HML</th>    <td>    0.4769</td> <td>    0.080</td> <td>    5.979</td> <td> 0.000</td> <td>    0.320</td> <td>    0.634</td>\n",
       "</tr>\n",
       "</table>\n",
       "<table class=\"simpletable\">\n",
       "<tr>\n",
       "  <th>Omnibus:</th>       <td>20.648</td> <th>  Durbin-Watson:     </th> <td>   1.799</td>\n",
       "</tr>\n",
       "<tr>\n",
       "  <th>Prob(Omnibus):</th> <td> 0.000</td> <th>  Jarque-Bera (JB):  </th> <td>  63.954</td>\n",
       "</tr>\n",
       "<tr>\n",
       "  <th>Skew:</th>          <td> 0.328</td> <th>  Prob(JB):          </th> <td>1.30e-14</td>\n",
       "</tr>\n",
       "<tr>\n",
       "  <th>Kurtosis:</th>      <td> 5.758</td> <th>  Cond. No.          </th> <td>    48.1</td>\n",
       "</tr>\n",
       "</table><br/><br/>Warnings:<br/>[1] Standard Errors assume that the covariance matrix of the errors is correctly specified."
      ],
      "text/plain": [
       "<class 'statsmodels.iolib.summary.Summary'>\n",
       "\"\"\"\n",
       "                            OLS Regression Results                            \n",
       "==============================================================================\n",
       "Dep. Variable:                   str2   R-squared:                       0.630\n",
       "Model:                            OLS   Adj. R-squared:                  0.624\n",
       "Method:                 Least Squares   F-statistic:                     106.1\n",
       "Date:                Sat, 04 May 2019   Prob (F-statistic):           3.70e-40\n",
       "Time:                        12:07:16   Log-Likelihood:                 427.83\n",
       "No. Observations:                 191   AIC:                            -847.7\n",
       "Df Residuals:                     187   BIC:                            -834.6\n",
       "Df Model:                           3                                         \n",
       "Covariance Type:            nonrobust                                         \n",
       "==============================================================================\n",
       "                 coef    std err          t      P>|t|      [0.025      0.975]\n",
       "------------------------------------------------------------------------------\n",
       "const          0.0004      0.002      0.189      0.850      -0.003       0.004\n",
       "Mkt-RF         0.7074      0.052     13.510      0.000       0.604       0.811\n",
       "SMB            0.0654      0.088      0.746      0.457      -0.108       0.238\n",
       "HML            0.4769      0.080      5.979      0.000       0.320       0.634\n",
       "==============================================================================\n",
       "Omnibus:                       20.648   Durbin-Watson:                   1.799\n",
       "Prob(Omnibus):                  0.000   Jarque-Bera (JB):               63.954\n",
       "Skew:                           0.328   Prob(JB):                     1.30e-14\n",
       "Kurtosis:                       5.758   Cond. No.                         48.1\n",
       "==============================================================================\n",
       "\n",
       "Warnings:\n",
       "[1] Standard Errors assume that the covariance matrix of the errors is correctly specified.\n",
       "\"\"\""
      ]
     },
     "execution_count": 31,
     "metadata": {},
     "output_type": "execute_result"
    }
   ],
   "source": [
    "FF_model(y.str2)"
   ]
  },
  {
   "cell_type": "markdown",
   "metadata": {},
   "source": [
    "### Summary of FF for startegy 3"
   ]
  },
  {
   "cell_type": "code",
   "execution_count": 32,
   "metadata": {},
   "outputs": [
    {
     "data": {
      "text/html": [
       "<table class=\"simpletable\">\n",
       "<caption>OLS Regression Results</caption>\n",
       "<tr>\n",
       "  <th>Dep. Variable:</th>          <td>str3</td>       <th>  R-squared:         </th> <td>   0.698</td>\n",
       "</tr>\n",
       "<tr>\n",
       "  <th>Model:</th>                   <td>OLS</td>       <th>  Adj. R-squared:    </th> <td>   0.693</td>\n",
       "</tr>\n",
       "<tr>\n",
       "  <th>Method:</th>             <td>Least Squares</td>  <th>  F-statistic:       </th> <td>   144.0</td>\n",
       "</tr>\n",
       "<tr>\n",
       "  <th>Date:</th>             <td>Sat, 04 May 2019</td> <th>  Prob (F-statistic):</th> <td>2.23e-48</td>\n",
       "</tr>\n",
       "<tr>\n",
       "  <th>Time:</th>                 <td>12:07:16</td>     <th>  Log-Likelihood:    </th> <td>  457.36</td>\n",
       "</tr>\n",
       "<tr>\n",
       "  <th>No. Observations:</th>      <td>   191</td>      <th>  AIC:               </th> <td>  -906.7</td>\n",
       "</tr>\n",
       "<tr>\n",
       "  <th>Df Residuals:</th>          <td>   187</td>      <th>  BIC:               </th> <td>  -893.7</td>\n",
       "</tr>\n",
       "<tr>\n",
       "  <th>Df Model:</th>              <td>     3</td>      <th>                     </th>     <td> </td>   \n",
       "</tr>\n",
       "<tr>\n",
       "  <th>Covariance Type:</th>      <td>nonrobust</td>    <th>                     </th>     <td> </td>   \n",
       "</tr>\n",
       "</table>\n",
       "<table class=\"simpletable\">\n",
       "<tr>\n",
       "     <td></td>       <th>coef</th>     <th>std err</th>      <th>t</th>      <th>P>|t|</th>  <th>[0.025</th>    <th>0.975]</th>  \n",
       "</tr>\n",
       "<tr>\n",
       "  <th>const</th>  <td> 2.894e-05</td> <td>    0.002</td> <td>    0.018</td> <td> 0.986</td> <td>   -0.003</td> <td>    0.003</td>\n",
       "</tr>\n",
       "<tr>\n",
       "  <th>Mkt-RF</th> <td>    0.7285</td> <td>    0.045</td> <td>   16.241</td> <td> 0.000</td> <td>    0.640</td> <td>    0.817</td>\n",
       "</tr>\n",
       "<tr>\n",
       "  <th>SMB</th>    <td>    0.0548</td> <td>    0.075</td> <td>    0.730</td> <td> 0.466</td> <td>   -0.093</td> <td>    0.203</td>\n",
       "</tr>\n",
       "<tr>\n",
       "  <th>HML</th>    <td>    0.4188</td> <td>    0.068</td> <td>    6.128</td> <td> 0.000</td> <td>    0.284</td> <td>    0.554</td>\n",
       "</tr>\n",
       "</table>\n",
       "<table class=\"simpletable\">\n",
       "<tr>\n",
       "  <th>Omnibus:</th>       <td>32.294</td> <th>  Durbin-Watson:     </th> <td>   2.167</td>\n",
       "</tr>\n",
       "<tr>\n",
       "  <th>Prob(Omnibus):</th> <td> 0.000</td> <th>  Jarque-Bera (JB):  </th> <td> 111.853</td>\n",
       "</tr>\n",
       "<tr>\n",
       "  <th>Skew:</th>          <td> 0.596</td> <th>  Prob(JB):          </th> <td>5.15e-25</td>\n",
       "</tr>\n",
       "<tr>\n",
       "  <th>Kurtosis:</th>      <td> 6.554</td> <th>  Cond. No.          </th> <td>    48.1</td>\n",
       "</tr>\n",
       "</table><br/><br/>Warnings:<br/>[1] Standard Errors assume that the covariance matrix of the errors is correctly specified."
      ],
      "text/plain": [
       "<class 'statsmodels.iolib.summary.Summary'>\n",
       "\"\"\"\n",
       "                            OLS Regression Results                            \n",
       "==============================================================================\n",
       "Dep. Variable:                   str3   R-squared:                       0.698\n",
       "Model:                            OLS   Adj. R-squared:                  0.693\n",
       "Method:                 Least Squares   F-statistic:                     144.0\n",
       "Date:                Sat, 04 May 2019   Prob (F-statistic):           2.23e-48\n",
       "Time:                        12:07:16   Log-Likelihood:                 457.36\n",
       "No. Observations:                 191   AIC:                            -906.7\n",
       "Df Residuals:                     187   BIC:                            -893.7\n",
       "Df Model:                           3                                         \n",
       "Covariance Type:            nonrobust                                         \n",
       "==============================================================================\n",
       "                 coef    std err          t      P>|t|      [0.025      0.975]\n",
       "------------------------------------------------------------------------------\n",
       "const       2.894e-05      0.002      0.018      0.986      -0.003       0.003\n",
       "Mkt-RF         0.7285      0.045     16.241      0.000       0.640       0.817\n",
       "SMB            0.0548      0.075      0.730      0.466      -0.093       0.203\n",
       "HML            0.4188      0.068      6.128      0.000       0.284       0.554\n",
       "==============================================================================\n",
       "Omnibus:                       32.294   Durbin-Watson:                   2.167\n",
       "Prob(Omnibus):                  0.000   Jarque-Bera (JB):              111.853\n",
       "Skew:                           0.596   Prob(JB):                     5.15e-25\n",
       "Kurtosis:                       6.554   Cond. No.                         48.1\n",
       "==============================================================================\n",
       "\n",
       "Warnings:\n",
       "[1] Standard Errors assume that the covariance matrix of the errors is correctly specified.\n",
       "\"\"\""
      ]
     },
     "execution_count": 32,
     "metadata": {},
     "output_type": "execute_result"
    }
   ],
   "source": [
    "FF_model(y.str3)"
   ]
  },
  {
   "cell_type": "markdown",
   "metadata": {},
   "source": [
    "### Summary of FF for startegy 4"
   ]
  },
  {
   "cell_type": "code",
   "execution_count": 33,
   "metadata": {},
   "outputs": [
    {
     "data": {
      "text/html": [
       "<table class=\"simpletable\">\n",
       "<caption>OLS Regression Results</caption>\n",
       "<tr>\n",
       "  <th>Dep. Variable:</th>          <td>str4</td>       <th>  R-squared:         </th> <td>   0.620</td>\n",
       "</tr>\n",
       "<tr>\n",
       "  <th>Model:</th>                   <td>OLS</td>       <th>  Adj. R-squared:    </th> <td>   0.614</td>\n",
       "</tr>\n",
       "<tr>\n",
       "  <th>Method:</th>             <td>Least Squares</td>  <th>  F-statistic:       </th> <td>   101.8</td>\n",
       "</tr>\n",
       "<tr>\n",
       "  <th>Date:</th>             <td>Sat, 04 May 2019</td> <th>  Prob (F-statistic):</th> <td>4.13e-39</td>\n",
       "</tr>\n",
       "<tr>\n",
       "  <th>Time:</th>                 <td>12:07:16</td>     <th>  Log-Likelihood:    </th> <td>  364.21</td>\n",
       "</tr>\n",
       "<tr>\n",
       "  <th>No. Observations:</th>      <td>   191</td>      <th>  AIC:               </th> <td>  -720.4</td>\n",
       "</tr>\n",
       "<tr>\n",
       "  <th>Df Residuals:</th>          <td>   187</td>      <th>  BIC:               </th> <td>  -707.4</td>\n",
       "</tr>\n",
       "<tr>\n",
       "  <th>Df Model:</th>              <td>     3</td>      <th>                     </th>     <td> </td>   \n",
       "</tr>\n",
       "<tr>\n",
       "  <th>Covariance Type:</th>      <td>nonrobust</td>    <th>                     </th>     <td> </td>   \n",
       "</tr>\n",
       "</table>\n",
       "<table class=\"simpletable\">\n",
       "<tr>\n",
       "     <td></td>       <th>coef</th>     <th>std err</th>      <th>t</th>      <th>P>|t|</th>  <th>[0.025</th>    <th>0.975]</th>  \n",
       "</tr>\n",
       "<tr>\n",
       "  <th>const</th>  <td>    0.0032</td> <td>    0.003</td> <td>    1.183</td> <td> 0.238</td> <td>   -0.002</td> <td>    0.008</td>\n",
       "</tr>\n",
       "<tr>\n",
       "  <th>Mkt-RF</th> <td>    0.7338</td> <td>    0.073</td> <td>   10.045</td> <td> 0.000</td> <td>    0.590</td> <td>    0.878</td>\n",
       "</tr>\n",
       "<tr>\n",
       "  <th>SMB</th>    <td>    0.7581</td> <td>    0.122</td> <td>    6.197</td> <td> 0.000</td> <td>    0.517</td> <td>    0.999</td>\n",
       "</tr>\n",
       "<tr>\n",
       "  <th>HML</th>    <td>    0.6654</td> <td>    0.111</td> <td>    5.979</td> <td> 0.000</td> <td>    0.446</td> <td>    0.885</td>\n",
       "</tr>\n",
       "</table>\n",
       "<table class=\"simpletable\">\n",
       "<tr>\n",
       "  <th>Omnibus:</th>       <td>83.229</td> <th>  Durbin-Watson:     </th> <td>   2.030</td> \n",
       "</tr>\n",
       "<tr>\n",
       "  <th>Prob(Omnibus):</th> <td> 0.000</td> <th>  Jarque-Bera (JB):  </th> <td> 591.650</td> \n",
       "</tr>\n",
       "<tr>\n",
       "  <th>Skew:</th>          <td> 1.459</td> <th>  Prob(JB):          </th> <td>3.35e-129</td>\n",
       "</tr>\n",
       "<tr>\n",
       "  <th>Kurtosis:</th>      <td>11.113</td> <th>  Cond. No.          </th> <td>    48.1</td> \n",
       "</tr>\n",
       "</table><br/><br/>Warnings:<br/>[1] Standard Errors assume that the covariance matrix of the errors is correctly specified."
      ],
      "text/plain": [
       "<class 'statsmodels.iolib.summary.Summary'>\n",
       "\"\"\"\n",
       "                            OLS Regression Results                            \n",
       "==============================================================================\n",
       "Dep. Variable:                   str4   R-squared:                       0.620\n",
       "Model:                            OLS   Adj. R-squared:                  0.614\n",
       "Method:                 Least Squares   F-statistic:                     101.8\n",
       "Date:                Sat, 04 May 2019   Prob (F-statistic):           4.13e-39\n",
       "Time:                        12:07:16   Log-Likelihood:                 364.21\n",
       "No. Observations:                 191   AIC:                            -720.4\n",
       "Df Residuals:                     187   BIC:                            -707.4\n",
       "Df Model:                           3                                         \n",
       "Covariance Type:            nonrobust                                         \n",
       "==============================================================================\n",
       "                 coef    std err          t      P>|t|      [0.025      0.975]\n",
       "------------------------------------------------------------------------------\n",
       "const          0.0032      0.003      1.183      0.238      -0.002       0.008\n",
       "Mkt-RF         0.7338      0.073     10.045      0.000       0.590       0.878\n",
       "SMB            0.7581      0.122      6.197      0.000       0.517       0.999\n",
       "HML            0.6654      0.111      5.979      0.000       0.446       0.885\n",
       "==============================================================================\n",
       "Omnibus:                       83.229   Durbin-Watson:                   2.030\n",
       "Prob(Omnibus):                  0.000   Jarque-Bera (JB):              591.650\n",
       "Skew:                           1.459   Prob(JB):                    3.35e-129\n",
       "Kurtosis:                      11.113   Cond. No.                         48.1\n",
       "==============================================================================\n",
       "\n",
       "Warnings:\n",
       "[1] Standard Errors assume that the covariance matrix of the errors is correctly specified.\n",
       "\"\"\""
      ]
     },
     "execution_count": 33,
     "metadata": {},
     "output_type": "execute_result"
    }
   ],
   "source": [
    "FF_model(y.str4)"
   ]
  }
 ],
 "metadata": {
  "kernelspec": {
   "display_name": "Python 2",
   "language": "python",
   "name": "python2"
  },
  "language_info": {
   "codemirror_mode": {
    "name": "ipython",
    "version": 2
   },
   "file_extension": ".py",
   "mimetype": "text/x-python",
   "name": "python",
   "nbconvert_exporter": "python",
   "pygments_lexer": "ipython2",
   "version": "2.7.16"
  }
 },
 "nbformat": 4,
 "nbformat_minor": 2
}
